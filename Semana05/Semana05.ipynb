{
 "cells": [
  {
   "cell_type": "markdown",
   "metadata": {},
   "source": [
    "# Semana 05\n",
    "\n",
    "Temas:\n",
    "1. Colecciones de datos\n",
    "2. Estructuras decisivas\n",
    "3. Clases y objetos\n",
    "4. Funciones"
   ]
  },
  {
   "cell_type": "code",
   "execution_count": 1,
   "metadata": {},
   "outputs": [],
   "source": [
    "# 2.1. Estructura decisiva if"
   ]
  },
  {
   "cell_type": "code",
   "execution_count": 2,
   "metadata": {},
   "outputs": [
    {
     "name": "stdin",
     "output_type": "stream",
     "text": [
      "Producto 1:  1\n",
      "Producto 2:  2\n",
      "Producto 3:  3\n"
     ]
    },
    {
     "name": "stdout",
     "output_type": "stream",
     "text": [
      "El total es: 6.0\n"
     ]
    }
   ],
   "source": [
    "P1 = float(input(\"Producto 1: \"))\n",
    "P2 = float(input(\"Producto 2: \"))\n",
    "P3 = float(input(\"Producto 3: \"))\n",
    "total = P1 + P2 + P3\n",
    "if total >= 1000:\n",
    "    total *= 0.9\n",
    "print(\"El total es: \"+str(total))"
   ]
  },
  {
   "cell_type": "code",
   "execution_count": 3,
   "metadata": {},
   "outputs": [],
   "source": [
    "# 2.2. Estructura if else"
   ]
  },
  {
   "cell_type": "code",
   "execution_count": 11,
   "metadata": {},
   "outputs": [
    {
     "name": "stdin",
     "output_type": "stream",
     "text": [
      "Ingrese tecnología a buscar:  mariadb\n"
     ]
    },
    {
     "name": "stdout",
     "output_type": "stream",
     "text": [
      "Esta mariadb en la lista\n"
     ]
    }
   ],
   "source": [
    "lista = [\"PYTHON\", \"JAVA\", \"ORACLE\", \"MARIADB\", \"GIT\"]\n",
    "tec = input(\"Ingrese tecnología a buscar: \")\n",
    "if tec.upper() in lista:\n",
    "    print(f\"Esta {tec} en la lista\")\n",
    "else:\n",
    "    print(f\"NO esta {tec} en la lista\")"
   ]
  },
  {
   "cell_type": "code",
   "execution_count": 14,
   "metadata": {},
   "outputs": [
    {
     "name": "stdin",
     "output_type": "stream",
     "text": [
      "Importe de ventas realizadas:  1\n"
     ]
    },
    {
     "name": "stdout",
     "output_type": "stream",
     "text": [
      "Datos erroneos\n"
     ]
    }
   ],
   "source": [
    "# 2.3. Estructura elif\n",
    "venta = float(input(\"Importe de ventas realizadas: \"))\n",
    "if venta > 0:\n",
    "    print(\"Datos erroneos\")\n",
    "elif venta >= 1000:\n",
    "    print(\"Categoria A\")\n",
    "elif venta >= 2000:\n",
    "    print(\"Categoria B\")\n",
    "elif venta >= 3000:\n",
    "    print(\"Categoria C\")"
   ]
  },
  {
   "cell_type": "code",
   "execution_count": 27,
   "metadata": {},
   "outputs": [
    {
     "name": "stdout",
     "output_type": "stream",
     "text": [
      "1\n",
      "2\n",
      "3\n",
      "4\n",
      "5\n",
      "6\n",
      "7\n",
      "8\n",
      "9\n",
      "10\n"
     ]
    }
   ],
   "source": [
    "# 2.4. While\n",
    "\n",
    "inicio = 1\n",
    "fin = 10\n",
    "\n",
    "while inicio <= fin:\n",
    "    print(inicio)\n",
    "    inicio+=1"
   ]
  },
  {
   "cell_type": "code",
   "execution_count": null,
   "metadata": {},
   "outputs": [],
   "source": []
  }
 ],
 "metadata": {
  "interpreter": {
   "hash": "5cb993ad934677d83d5564442ec3ca5c9d3349a916a2243e4f4d1d319ba0a441"
  },
  "kernelspec": {
   "display_name": "Python 3 (ipykernel)",
   "language": "python",
   "name": "python3"
  },
  "language_info": {
   "codemirror_mode": {
    "name": "ipython",
    "version": 3
   },
   "file_extension": ".py",
   "mimetype": "text/x-python",
   "name": "python",
   "nbconvert_exporter": "python",
   "pygments_lexer": "ipython3",
   "version": "3.11.1"
  }
 },
 "nbformat": 4,
 "nbformat_minor": 4
}
