{
 "cells": [
  {
   "cell_type": "markdown",
   "id": "f23a4a94-e02b-4502-bb02-888de98b8ef0",
   "metadata": {},
   "source": [
    "# Semana 05\n",
    "\n",
    "Temas:\n",
    "1. Colecciones de datos\n",
    "2. Estructuras decisivas\n",
    "3. Clases y objetos\n",
    "4. Funciones"
   ]
  },
  {
   "cell_type": "code",
   "execution_count": 1,
   "id": "e300aede-886e-410a-a3bf-2efe408f9acd",
   "metadata": {},
   "outputs": [],
   "source": [
    "# 3. Funciones"
   ]
  },
  {
   "cell_type": "code",
   "execution_count": 3,
   "id": "799f3fa1-716e-4353-8927-d7adb4f30293",
   "metadata": {},
   "outputs": [],
   "source": [
    "def saludo():\n",
    "    print(\"High, night, eyes, lies, die, sky\")"
   ]
  },
  {
   "cell_type": "code",
   "execution_count": 4,
   "id": "0aa76e24-f4c0-4cd7-8247-5935fb17565e",
   "metadata": {},
   "outputs": [
    {
     "name": "stdout",
     "output_type": "stream",
     "text": [
      "High, night, eyes, lies, die, sky\n"
     ]
    }
   ],
   "source": [
    "saludo()"
   ]
  },
  {
   "cell_type": "code",
   "execution_count": 8,
   "id": "cbcf3b3f-e948-4cd8-ad8f-c170daa8a8db",
   "metadata": {},
   "outputs": [],
   "source": [
    "def factorial(num):\n",
    "    fac = 1\n",
    "    for i in range(1, num + 1):\n",
    "        fac *= i\n",
    "    print(\"El factorial es: \", fac)"
   ]
  },
  {
   "cell_type": "code",
   "execution_count": 9,
   "id": "82467af5-1c7e-44f3-8b0f-44b3c195c829",
   "metadata": {},
   "outputs": [
    {
     "name": "stdout",
     "output_type": "stream",
     "text": [
      "El factorial es:  120\n"
     ]
    }
   ],
   "source": [
    "factorial(5)"
   ]
  },
  {
   "cell_type": "code",
   "execution_count": 13,
   "id": "cd285b03-1208-4936-9b65-0615d8484cd0",
   "metadata": {},
   "outputs": [
    {
     "name": "stdout",
     "output_type": "stream",
     "text": [
      "1\n",
      "2\n",
      "3\n",
      "4\n",
      "5\n",
      "6\n",
      "7\n",
      "8\n",
      "9\n",
      "10\n"
     ]
    }
   ],
   "source": [
    "for i in range(1, 11):\n",
    "    print(i)"
   ]
  },
  {
   "cell_type": "code",
   "execution_count": 15,
   "id": "2f094aaf-7e6a-44cd-97e5-143d8c647db1",
   "metadata": {},
   "outputs": [],
   "source": [
    "def obtenerIGV(importe):\n",
    "    return importe * 0.18"
   ]
  },
  {
   "cell_type": "code",
   "execution_count": 16,
   "id": "e905bc75-5a0f-46ad-bd10-2297a499aa05",
   "metadata": {},
   "outputs": [
    {
     "data": {
      "text/plain": [
       "9.0"
      ]
     },
     "execution_count": 16,
     "metadata": {},
     "output_type": "execute_result"
    }
   ],
   "source": [
    "obtenerIGV(50)"
   ]
  }
 ],
 "metadata": {
  "kernelspec": {
   "display_name": "Python 3 (ipykernel)",
   "language": "python",
   "name": "python3"
  },
  "language_info": {
   "codemirror_mode": {
    "name": "ipython",
    "version": 3
   },
   "file_extension": ".py",
   "mimetype": "text/x-python",
   "name": "python",
   "nbconvert_exporter": "python",
   "pygments_lexer": "ipython3",
   "version": "3.11.1"
  }
 },
 "nbformat": 4,
 "nbformat_minor": 5
}
