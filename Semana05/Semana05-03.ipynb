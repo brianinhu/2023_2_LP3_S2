{
 "cells": [
  {
   "cell_type": "markdown",
   "id": "d6cd65a0-171c-4911-a75b-e6a94bb2f978",
   "metadata": {},
   "source": [
    "# 4. Clases y objetos"
   ]
  },
  {
   "cell_type": "code",
   "execution_count": 2,
   "id": "4d5bdef3-ff71-4f2b-9b00-6d2af0b8c9b2",
   "metadata": {},
   "outputs": [],
   "source": [
    "class Persona:\n",
    "    nombre = \"\"\n",
    "    apellidos = \"\"\n",
    "    dni = \"\"\n",
    "    talla = 0.0"
   ]
  },
  {
   "cell_type": "code",
   "execution_count": 3,
   "id": "8a9be591-0a43-400f-b00f-ecce91654362",
   "metadata": {},
   "outputs": [],
   "source": [
    "persona1 = Persona()"
   ]
  },
  {
   "cell_type": "code",
   "execution_count": 7,
   "id": "3cb1fea9-040b-4e67-9616-4730101b346c",
   "metadata": {},
   "outputs": [],
   "source": [
    "persona1.nombre = \"Harry\"\n",
    "persona1.apellido = \"Styles\"\n",
    "persona1.dni = \"12345678\"\n",
    "persona1.talla = 1.05"
   ]
  },
  {
   "cell_type": "code",
   "execution_count": 8,
   "id": "a96c8706-ab30-4237-a043-f762b1e5b12d",
   "metadata": {},
   "outputs": [
    {
     "name": "stdout",
     "output_type": "stream",
     "text": [
      "Nombre:  Harry\n",
      "Apellido:  Styles\n",
      "DNI:  12345678\n",
      "Talla:  1.05\n"
     ]
    }
   ],
   "source": [
    "print(\"Nombre: \", persona1.nombre)\n",
    "print(\"Apellido: \", persona1.apellido)\n",
    "print(\"DNI: \", persona1.dni)\n",
    "print(\"Talla: \", persona1.talla)"
   ]
  },
  {
   "cell_type": "code",
   "execution_count": 9,
   "id": "13699aef-9392-4dc9-b126-f2d505ae9bb0",
   "metadata": {},
   "outputs": [],
   "source": [
    "# Constructores"
   ]
  },
  {
   "cell_type": "code",
   "execution_count": 23,
   "id": "769dbb4b-f804-4fca-aeaa-3af89a3d439c",
   "metadata": {},
   "outputs": [],
   "source": [
    "class Curso:\n",
    "    def __init__(self, codigo, nombre, horas, creditos):\n",
    "        self.codigo = codigo\n",
    "        self.nombre = nombre\n",
    "        self.horas = horas\n",
    "        self.creditos = creditos\n",
    "    def mostrarDatos(self):\n",
    "        print(\"Codigo:\", self.codigo)\n",
    "        print(\"Nombre:\", self.nombre)\n",
    "        print(\"Horas:\", self.horas)\n",
    "        print(\"Creditos:\", self.creditos)"
   ]
  },
  {
   "cell_type": "code",
   "execution_count": 24,
   "id": "f6a98c30-e57c-4913-965e-867ea079c28c",
   "metadata": {},
   "outputs": [
    {
     "name": "stdout",
     "output_type": "stream",
     "text": [
      "Codigo: FG45\n",
      "Nombre: LP3\n",
      "Horas: 10\n",
      "Creditos: 100\n"
     ]
    }
   ],
   "source": [
    "curso1 = Curso(\"FG45\", \"LP3\", 10, 100)\n",
    "curso1.mostrarDatos()"
   ]
  },
  {
   "cell_type": "code",
   "execution_count": null,
   "id": "01103d59-b6bc-44eb-96e6-a800e8405842",
   "metadata": {},
   "outputs": [],
   "source": []
  }
 ],
 "metadata": {
  "kernelspec": {
   "display_name": "Python 3 (ipykernel)",
   "language": "python",
   "name": "python3"
  },
  "language_info": {
   "codemirror_mode": {
    "name": "ipython",
    "version": 3
   },
   "file_extension": ".py",
   "mimetype": "text/x-python",
   "name": "python",
   "nbconvert_exporter": "python",
   "pygments_lexer": "ipython3",
   "version": "3.11.1"
  }
 },
 "nbformat": 4,
 "nbformat_minor": 5
}
