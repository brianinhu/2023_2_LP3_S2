{
 "cells": [
  {
   "cell_type": "markdown",
   "id": "7b354758",
   "metadata": {},
   "source": [
    "# Semana 04\n",
    "Temas\n",
    "1. Colecciones de datos\n",
    "2. Estructuras decisivas y estructuras\n",
    "3. Clases y objetos\n",
    "4. Funciones"
   ]
  },
  {
   "cell_type": "markdown",
   "id": "d5a8ea00",
   "metadata": {},
   "source": [
    "1. Colecciones de datos"
   ]
  },
  {
   "cell_type": "code",
   "execution_count": 2,
   "id": "ccb34fa5",
   "metadata": {},
   "outputs": [],
   "source": [
    "aula = [\"Asuncion\", \"Ayquipa\", \"Barzola\", \"Caman\"]"
   ]
  },
  {
   "cell_type": "code",
   "execution_count": 3,
   "id": "310043da",
   "metadata": {},
   "outputs": [
    {
     "name": "stdout",
     "output_type": "stream",
     "text": [
      "['Asuncion', 'Ayquipa', 'Barzola', 'Caman']\n"
     ]
    }
   ],
   "source": [
    "print(aula)"
   ]
  },
  {
   "cell_type": "code",
   "execution_count": 4,
   "id": "f93d0cd8",
   "metadata": {},
   "outputs": [
    {
     "name": "stdout",
     "output_type": "stream",
     "text": [
      "['Asuncion', 'Chavez', 'Barzola', 'Caman']\n"
     ]
    }
   ],
   "source": [
    "aula[1] = \"Chavez\"\n",
    "print(aula)"
   ]
  },
  {
   "cell_type": "code",
   "execution_count": 5,
   "id": "61667510",
   "metadata": {},
   "outputs": [],
   "source": [
    "aula.append(\"Curo\")\n",
    "aula.append(\"Barzola\")"
   ]
  },
  {
   "cell_type": "code",
   "execution_count": 6,
   "id": "91973cfb",
   "metadata": {},
   "outputs": [
    {
     "data": {
      "text/plain": [
       "['Asuncion', 'Chavez', 'Barzola', 'Caman', 'Curo', 'Barzola']"
      ]
     },
     "execution_count": 6,
     "metadata": {},
     "output_type": "execute_result"
    }
   ],
   "source": [
    "aula"
   ]
  },
  {
   "cell_type": "code",
   "execution_count": 7,
   "id": "98300ee4",
   "metadata": {},
   "outputs": [
    {
     "data": {
      "text/plain": [
       "['Chavez', 'Barzola', 'Caman', 'Curo', 'Barzola']"
      ]
     },
     "execution_count": 7,
     "metadata": {},
     "output_type": "execute_result"
    }
   ],
   "source": [
    "aula.remove(\"Asuncion\")\n",
    "aula"
   ]
  },
  {
   "cell_type": "code",
   "execution_count": 8,
   "id": "bcedbcef",
   "metadata": {},
   "outputs": [
    {
     "data": {
      "text/plain": [
       "['Chavez', 'Caman', 'Curo', 'Barzola']"
      ]
     },
     "execution_count": 8,
     "metadata": {},
     "output_type": "execute_result"
    }
   ],
   "source": [
    "aula.remove(\"Barzola\")\n",
    "aula"
   ]
  },
  {
   "cell_type": "code",
   "execution_count": 10,
   "id": "07f589e0",
   "metadata": {},
   "outputs": [
    {
     "name": "stdout",
     "output_type": "stream",
     "text": [
      "Chavez\n",
      "Caman\n",
      "Curo\n",
      "Barzola\n"
     ]
    }
   ],
   "source": [
    "for i in aula:\n",
    "    print(i)"
   ]
  },
  {
   "cell_type": "code",
   "execution_count": 15,
   "id": "df2e9afe",
   "metadata": {},
   "outputs": [],
   "source": [
    "# Invertir el orden\n",
    "aula.reverse()"
   ]
  },
  {
   "cell_type": "code",
   "execution_count": 12,
   "id": "0e970250",
   "metadata": {},
   "outputs": [
    {
     "data": {
      "text/plain": [
       "['Barzola', 'Curo', 'Caman', 'Chavez']"
      ]
     },
     "execution_count": 12,
     "metadata": {},
     "output_type": "execute_result"
    }
   ],
   "source": [
    "aula"
   ]
  },
  {
   "cell_type": "code",
   "execution_count": 14,
   "id": "ef249bf5",
   "metadata": {},
   "outputs": [
    {
     "data": {
      "text/plain": [
       "['Barzola', 'Caman', 'Chavez', 'Curo']"
      ]
     },
     "execution_count": 14,
     "metadata": {},
     "output_type": "execute_result"
    }
   ],
   "source": [
    "# Ordenar alfabeticamente\n",
    "aula.sort()\n",
    "aula"
   ]
  },
  {
   "cell_type": "markdown",
   "id": "ded60306",
   "metadata": {},
   "source": [
    "---\n",
    "\n",
    "1.1. Tuplas\n",
    "\n",
    "Es una coleccion de elementos ordenada mediante indices.\n",
    "\n",
    "---"
   ]
  },
  {
   "cell_type": "code",
   "execution_count": 17,
   "id": "b6b64526",
   "metadata": {},
   "outputs": [],
   "source": [
    "tupla_aula = (\"Asuncion\", \"Ayquipa\", \"Barzola\", \"Caman\")"
   ]
  },
  {
   "cell_type": "code",
   "execution_count": 18,
   "id": "d7f94cfe",
   "metadata": {},
   "outputs": [
    {
     "data": {
      "text/plain": [
       "'Asuncion'"
      ]
     },
     "execution_count": 18,
     "metadata": {},
     "output_type": "execute_result"
    }
   ],
   "source": [
    "tupla_aula[0]"
   ]
  },
  {
   "cell_type": "markdown",
   "id": "3dd39799",
   "metadata": {},
   "source": [
    "---\n",
    "\n",
    "1.2. Conjuntos\n",
    "\n",
    "Concepto\n",
    "\n",
    "---"
   ]
  },
  {
   "cell_type": "markdown",
   "id": "4722fd97",
   "metadata": {},
   "source": [
    "---\n",
    "\n",
    "1.3. Diccionario\n",
    "\n",
    "Coleccion de elementos indexados\n",
    "\n",
    "---"
   ]
  },
  {
   "cell_type": "code",
   "execution_count": 23,
   "id": "d9019d04",
   "metadata": {},
   "outputs": [],
   "source": [
    "diccionario_aula = {\n",
    "    2: \"Asuncion\",\n",
    "    '1': \"Ayquipa\",\n",
    "    'dos': \"Barzola\",\n",
    "    '3': \"Caman\",\n",
    "    '0': \"Curo\"\n",
    "}"
   ]
  },
  {
   "cell_type": "code",
   "execution_count": 24,
   "id": "0e6d77f8",
   "metadata": {},
   "outputs": [
    {
     "data": {
      "text/plain": [
       "{2: 'Asuncion', '1': 'Ayquipa', 'dos': 'Barzola', '3': 'Caman', '0': 'Curo'}"
      ]
     },
     "execution_count": 24,
     "metadata": {},
     "output_type": "execute_result"
    }
   ],
   "source": [
    "diccionario_aula"
   ]
  },
  {
   "cell_type": "markdown",
   "id": "34c99a3b",
   "metadata": {},
   "source": [
    "---\n",
    "\n",
    "1.5. Ejercicio\n",
    "\n",
    "Dado una lista de [\"Asuncion\", \"Ayquipa\", \"\"]\n",
    "\n",
    "---"
   ]
  }
 ],
 "metadata": {
  "kernelspec": {
   "display_name": "Python 3 (ipykernel)",
   "language": "python",
   "name": "python3"
  },
  "language_info": {
   "codemirror_mode": {
    "name": "ipython",
    "version": 3
   },
   "file_extension": ".py",
   "mimetype": "text/x-python",
   "name": "python",
   "nbconvert_exporter": "python",
   "pygments_lexer": "ipython3",
   "version": "3.9.13"
  }
 },
 "nbformat": 4,
 "nbformat_minor": 5
}
