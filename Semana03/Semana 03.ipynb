{
 "cells": [
  {
   "cell_type": "markdown",
   "id": "b867a779",
   "metadata": {},
   "source": [
    "# Semana 03\n",
    "Est. Brian Omar Inca Huamani"
   ]
  },
  {
   "cell_type": "markdown",
   "id": "ca48628c",
   "metadata": {},
   "source": [
    "Temario\n",
    "1. Numeros\n",
    "2. Variables\n",
    "3. Manejo de cadenas\n",
    "4. Ingreso de datos por teclado\n",
    "5. Operadores"
   ]
  },
  {
   "cell_type": "markdown",
   "id": "fca741b4",
   "metadata": {},
   "source": [
    "#### 1. Números"
   ]
  },
  {
   "cell_type": "code",
   "execution_count": 1,
   "id": "91ea95ec",
   "metadata": {},
   "outputs": [
    {
     "data": {
      "text/plain": [
       "15"
      ]
     },
     "execution_count": 1,
     "metadata": {},
     "output_type": "execute_result"
    }
   ],
   "source": [
    "1 + 2 + 3 + 4 + 5"
   ]
  },
  {
   "cell_type": "code",
   "execution_count": 2,
   "id": "f261e59f",
   "metadata": {},
   "outputs": [
    {
     "data": {
      "text/plain": [
       "50"
      ]
     },
     "execution_count": 2,
     "metadata": {},
     "output_type": "execute_result"
    }
   ],
   "source": [
    "100 - 50"
   ]
  },
  {
   "cell_type": "code",
   "execution_count": 3,
   "id": "6ed0a667",
   "metadata": {},
   "outputs": [
    {
     "data": {
      "text/plain": [
       "200"
      ]
     },
     "execution_count": 3,
     "metadata": {},
     "output_type": "execute_result"
    }
   ],
   "source": [
    "100 * 2"
   ]
  },
  {
   "cell_type": "code",
   "execution_count": 4,
   "id": "8bcae3de",
   "metadata": {},
   "outputs": [
    {
     "data": {
      "text/plain": [
       "8.333333333333334"
      ]
     },
     "execution_count": 4,
     "metadata": {},
     "output_type": "execute_result"
    }
   ],
   "source": [
    "100/12"
   ]
  },
  {
   "cell_type": "markdown",
   "id": "94e67a0c",
   "metadata": {},
   "source": [
    "#### 2. Variables"
   ]
  },
  {
   "cell_type": "code",
   "execution_count": 5,
   "id": "0e76bc61",
   "metadata": {},
   "outputs": [],
   "source": [
    "nombre = \"Brian\""
   ]
  },
  {
   "cell_type": "code",
   "execution_count": 6,
   "id": "147ada7b",
   "metadata": {},
   "outputs": [],
   "source": [
    "apellido = \"Inca\""
   ]
  },
  {
   "cell_type": "code",
   "execution_count": 7,
   "id": "6a9991d7",
   "metadata": {},
   "outputs": [
    {
     "name": "stdout",
     "output_type": "stream",
     "text": [
      "100\n"
     ]
    }
   ],
   "source": [
    "string = \"100\"\n",
    "entero = int(string)\n",
    "print(entero)"
   ]
  },
  {
   "cell_type": "markdown",
   "id": "0cadf561",
   "metadata": {},
   "source": [
    "#### 3. Manejo de cadenas"
   ]
  },
  {
   "cell_type": "code",
   "execution_count": 8,
   "id": "3f1c72c3",
   "metadata": {},
   "outputs": [],
   "source": [
    "cadena = \"Universidad Nacional Tecnologica de Lima Sur\""
   ]
  },
  {
   "cell_type": "code",
   "execution_count": 9,
   "id": "f98de494",
   "metadata": {},
   "outputs": [
    {
     "data": {
      "text/plain": [
       "'U'"
      ]
     },
     "execution_count": 9,
     "metadata": {},
     "output_type": "execute_result"
    }
   ],
   "source": [
    "cadena[0]"
   ]
  },
  {
   "cell_type": "code",
   "execution_count": 10,
   "id": "c4d2c4fd",
   "metadata": {},
   "outputs": [
    {
     "data": {
      "text/plain": [
       "'versi'"
      ]
     },
     "execution_count": 10,
     "metadata": {},
     "output_type": "execute_result"
    }
   ],
   "source": [
    "# Devuelve las posiciones 3 hasta el 7\n",
    "cadena[3:8]"
   ]
  },
  {
   "cell_type": "code",
   "execution_count": 11,
   "id": "86318fef",
   "metadata": {},
   "outputs": [
    {
     "data": {
      "text/plain": [
       "44"
      ]
     },
     "execution_count": 11,
     "metadata": {},
     "output_type": "execute_result"
    }
   ],
   "source": [
    "len(cadena)"
   ]
  },
  {
   "cell_type": "code",
   "execution_count": 12,
   "id": "ca8da309",
   "metadata": {},
   "outputs": [
    {
     "data": {
      "text/plain": [
       "'UNIVERSIDAD NACIONAL TECNOLOGICA DE LIMA SUR'"
      ]
     },
     "execution_count": 12,
     "metadata": {},
     "output_type": "execute_result"
    }
   ],
   "source": [
    "cadena.upper()"
   ]
  },
  {
   "cell_type": "code",
   "execution_count": 13,
   "id": "122be21a",
   "metadata": {},
   "outputs": [
    {
     "data": {
      "text/plain": [
       "'universidad nacional tecnologica de lima sur'"
      ]
     },
     "execution_count": 13,
     "metadata": {},
     "output_type": "execute_result"
    }
   ],
   "source": [
    "cadena.lower()"
   ]
  },
  {
   "cell_type": "code",
   "execution_count": 14,
   "id": "ea12e146",
   "metadata": {},
   "outputs": [],
   "source": [
    "arr = [1, 2 , 3]\n",
    "arr.reverse()"
   ]
  },
  {
   "cell_type": "code",
   "execution_count": 15,
   "id": "5d65d252",
   "metadata": {},
   "outputs": [
    {
     "data": {
      "text/plain": [
       "[3, 2, 1]"
      ]
     },
     "execution_count": 15,
     "metadata": {},
     "output_type": "execute_result"
    }
   ],
   "source": [
    "arr"
   ]
  },
  {
   "cell_type": "code",
   "execution_count": 16,
   "id": "3458f5aa",
   "metadata": {},
   "outputs": [
    {
     "data": {
      "text/plain": [
       "['Universidad', 'Nacional', 'Tecnologica', 'de', 'Lima', 'Sur']"
      ]
     },
     "execution_count": 16,
     "metadata": {},
     "output_type": "execute_result"
    }
   ],
   "source": [
    "cadena.split()"
   ]
  },
  {
   "cell_type": "code",
   "execution_count": 17,
   "id": "74b5760e",
   "metadata": {},
   "outputs": [
    {
     "data": {
      "text/plain": [
       "['Universidad', 'Nacional', 'Tecnologica', 'de', 'Lima', 'Sur']"
      ]
     },
     "execution_count": 17,
     "metadata": {},
     "output_type": "execute_result"
    }
   ],
   "source": [
    "cadena.split(\" \")"
   ]
  },
  {
   "cell_type": "code",
   "execution_count": 18,
   "id": "4932f12f",
   "metadata": {},
   "outputs": [
    {
     "data": {
      "text/plain": [
       "['U', 'iversidad Nacio', 'al Tec', 'ologica de Lima Sur']"
      ]
     },
     "execution_count": 18,
     "metadata": {},
     "output_type": "execute_result"
    }
   ],
   "source": [
    "cadena.split(\"n\")"
   ]
  },
  {
   "cell_type": "code",
   "execution_count": 19,
   "id": "a965c042",
   "metadata": {},
   "outputs": [
    {
     "name": "stdout",
     "output_type": "stream",
     "text": [
      "Buenos dias Brian Inca\n"
     ]
    }
   ],
   "source": [
    "# Forma clásica\n",
    "name = \"Brian\"\n",
    "lastname = \"Inca\"\n",
    "print(\"Buenos dias \"+ name + \" \" + lastname)"
   ]
  },
  {
   "cell_type": "code",
   "execution_count": 20,
   "id": "4c0d9cea",
   "metadata": {},
   "outputs": [
    {
     "name": "stdout",
     "output_type": "stream",
     "text": [
      "Buenos dias Brian Inca\n"
     ]
    }
   ],
   "source": [
    "# format()\n",
    "name = \"Brian\"\n",
    "lastname = \"Inca\"\n",
    "print(\"Buenos dias {} {}\".format(name, lastname))"
   ]
  },
  {
   "cell_type": "code",
   "execution_count": 21,
   "id": "00d8e574",
   "metadata": {},
   "outputs": [
    {
     "name": "stdout",
     "output_type": "stream",
     "text": [
      "10/3 es = 3.3333333333333335\n"
     ]
    }
   ],
   "source": [
    "# Dar formato a números con muchos decimales\n",
    "resultado = 10 / 3\n",
    "print(\"10/3 es = {}\".format(resultado))"
   ]
  },
  {
   "cell_type": "code",
   "execution_count": 22,
   "id": "89c833dc",
   "metadata": {},
   "outputs": [
    {
     "name": "stdout",
     "output_type": "stream",
     "text": [
      "10/3 es = 3.333\n"
     ]
    }
   ],
   "source": [
    "# Dar formato a números con muchos decimales\n",
    "resultado = 10 / 3\n",
    "print(\"10/3 es = {r:1.3f}\".format(r=resultado))"
   ]
  },
  {
   "cell_type": "code",
   "execution_count": 23,
   "id": "16e4e8e5",
   "metadata": {},
   "outputs": [
    {
     "name": "stdout",
     "output_type": "stream",
     "text": [
      "10/3 es 3.33\n"
     ]
    }
   ],
   "source": [
    "# Dar formato a números con muchos decimales\n",
    "resultado = 10 / 3\n",
    "print(f\"10/3 es {resultado:1.2f}\")"
   ]
  },
  {
   "cell_type": "markdown",
   "id": "e6f6d376",
   "metadata": {},
   "source": [
    "#### 4. Ingreso de datos por teclado"
   ]
  },
  {
   "cell_type": "code",
   "execution_count": 24,
   "id": "4a448d82",
   "metadata": {},
   "outputs": [
    {
     "name": "stdout",
     "output_type": "stream",
     "text": [
      "What's your name?\n",
      "hola\n",
      "Hi, hola\n"
     ]
    }
   ],
   "source": [
    "print(\"What's your name?\")\n",
    "name = input()\n",
    "print(f\"Hi, {name}\")"
   ]
  },
  {
   "cell_type": "code",
   "execution_count": 29,
   "id": "9732e08c",
   "metadata": {},
   "outputs": [
    {
     "name": "stdout",
     "output_type": "stream",
     "text": [
      "Numero 1: 1\n",
      "Numero 2: 2\n",
      "Respuesta = 3\n"
     ]
    }
   ],
   "source": [
    "num1 = input(\"Numero 1: \")\n",
    "num2 = input(\"Numero 2: \")\n",
    "rpta = int(num1) + int(num2)\n",
    "print(f\"Respuesta = {rpta}\")"
   ]
  },
  {
   "cell_type": "markdown",
   "id": "6e6a1dfa",
   "metadata": {},
   "source": [
    "#### 5. Operadores"
   ]
  },
  {
   "cell_type": "code",
   "execution_count": 30,
   "id": "e461ad57",
   "metadata": {},
   "outputs": [],
   "source": [
    "# Operadores logicos and or y not\n",
    "a = 1\n",
    "b = 2\n",
    "c = 3\n",
    "d = 4"
   ]
  },
  {
   "cell_type": "code",
   "execution_count": 31,
   "id": "1e81afd0",
   "metadata": {},
   "outputs": [
    {
     "data": {
      "text/plain": [
       "True"
      ]
     },
     "execution_count": 31,
     "metadata": {},
     "output_type": "execute_result"
    }
   ],
   "source": [
    "a < b"
   ]
  },
  {
   "cell_type": "code",
   "execution_count": 32,
   "id": "f3e9fe84",
   "metadata": {},
   "outputs": [
    {
     "data": {
      "text/plain": [
       "False"
      ]
     },
     "execution_count": 32,
     "metadata": {},
     "output_type": "execute_result"
    }
   ],
   "source": [
    "a < b and b > c "
   ]
  },
  {
   "cell_type": "code",
   "execution_count": null,
   "id": "9269e360",
   "metadata": {},
   "outputs": [],
   "source": [
    "# Ejemplo\n",
    "aula = [\"Juan\", \"Daniel\", \"Ruben\"]\n",
    "alumno1 = \"Diego\"\n",
    "alumno2 = \"Juan\""
   ]
  }
 ],
 "metadata": {
  "kernelspec": {
   "display_name": "Python 3 (ipykernel)",
   "language": "python",
   "name": "python3"
  },
  "language_info": {
   "codemirror_mode": {
    "name": "ipython",
    "version": 3
   },
   "file_extension": ".py",
   "mimetype": "text/x-python",
   "name": "python",
   "nbconvert_exporter": "python",
   "pygments_lexer": "ipython3",
   "version": "3.9.13"
  }
 },
 "nbformat": 4,
 "nbformat_minor": 5
}
