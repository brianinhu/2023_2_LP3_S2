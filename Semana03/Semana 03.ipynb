{
 "cells": [
  {
   "cell_type": "markdown",
   "id": "25b89271",
   "metadata": {},
   "source": [
    "# Semana 03\n",
    "Est. Brian Omar Inca Huamani"
   ]
  },
  {
   "cell_type": "markdown",
   "id": "8c00ad88",
   "metadata": {},
   "source": [
    "Temario"
   ]
  },
  {
   "cell_type": "markdown",
   "id": "20b26562",
   "metadata": {},
   "source": [
    "1. Números"
   ]
  },
  {
   "cell_type": "code",
   "execution_count": 2,
   "id": "fcff7681",
   "metadata": {},
   "outputs": [
    {
     "data": {
      "text/plain": [
       "15"
      ]
     },
     "execution_count": 2,
     "metadata": {},
     "output_type": "execute_result"
    }
   ],
   "source": [
    "1 + 2 + 3 + 4 + 5"
   ]
  },
  {
   "cell_type": "code",
   "execution_count": null,
   "id": "76efee35",
   "metadata": {},
   "outputs": [],
   "source": []
  }
 ],
 "metadata": {
  "kernelspec": {
   "display_name": "Python 3 (ipykernel)",
   "language": "python",
   "name": "python3"
  },
  "language_info": {
   "codemirror_mode": {
    "name": "ipython",
    "version": 3
   },
   "file_extension": ".py",
   "mimetype": "text/x-python",
   "name": "python",
   "nbconvert_exporter": "python",
   "pygments_lexer": "ipython3",
   "version": "3.9.13"
  }
 },
 "nbformat": 4,
 "nbformat_minor": 5
}
