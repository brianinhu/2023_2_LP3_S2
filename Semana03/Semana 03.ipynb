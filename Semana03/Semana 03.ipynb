{
 "cells": [
  {
   "cell_type": "markdown",
   "id": "a90e6bb1",
   "metadata": {},
   "source": [
    "# Semana 03\n",
    "Est. Brian Omar Inca Huamani"
   ]
  },
  {
   "cell_type": "markdown",
   "id": "61faa3d9",
   "metadata": {},
   "source": [
    "Temario\n",
    "1. Numeros\n",
    "2. Variables\n",
    "3. Manejo de cadenas\n",
    "4. Ingreso de datos por teclado\n",
    "5. Operadores"
   ]
  },
  {
   "cell_type": "markdown",
   "id": "ec6ae3d1",
   "metadata": {},
   "source": [
    "#### 1. Números"
   ]
  },
  {
   "cell_type": "code",
   "execution_count": 1,
   "id": "39181050",
   "metadata": {},
   "outputs": [
    {
     "data": {
      "text/plain": [
       "15"
      ]
     },
     "execution_count": 1,
     "metadata": {},
     "output_type": "execute_result"
    }
   ],
   "source": [
    "1 + 2 + 3 + 4 + 5"
   ]
  },
  {
   "cell_type": "code",
   "execution_count": 2,
   "id": "1be71996",
   "metadata": {},
   "outputs": [
    {
     "data": {
      "text/plain": [
       "50"
      ]
     },
     "execution_count": 2,
     "metadata": {},
     "output_type": "execute_result"
    }
   ],
   "source": [
    "100 - 50"
   ]
  },
  {
   "cell_type": "code",
   "execution_count": 3,
   "id": "f5b31df4",
   "metadata": {},
   "outputs": [
    {
     "data": {
      "text/plain": [
       "200"
      ]
     },
     "execution_count": 3,
     "metadata": {},
     "output_type": "execute_result"
    }
   ],
   "source": [
    "100 * 2"
   ]
  },
  {
   "cell_type": "code",
   "execution_count": 4,
   "id": "d3889682",
   "metadata": {},
   "outputs": [
    {
     "data": {
      "text/plain": [
       "8.333333333333334"
      ]
     },
     "execution_count": 4,
     "metadata": {},
     "output_type": "execute_result"
    }
   ],
   "source": [
    "100/12"
   ]
  },
  {
   "cell_type": "markdown",
   "id": "0abf9739",
   "metadata": {},
   "source": [
    "#### 2. Variables"
   ]
  },
  {
   "cell_type": "code",
   "execution_count": 5,
   "id": "c58e66d2",
   "metadata": {},
   "outputs": [],
   "source": [
    "nombre = \"Brian\""
   ]
  },
  {
   "cell_type": "code",
   "execution_count": 6,
   "id": "e17427ed",
   "metadata": {},
   "outputs": [],
   "source": [
    "apellido = \"Inca\""
   ]
  },
  {
   "cell_type": "code",
   "execution_count": 7,
   "id": "80edee91",
   "metadata": {},
   "outputs": [
    {
     "name": "stdout",
     "output_type": "stream",
     "text": [
      "100\n"
     ]
    }
   ],
   "source": [
    "string = \"100\"\n",
    "entero = int(string)\n",
    "print(entero)"
   ]
  },
  {
   "cell_type": "markdown",
   "id": "0d7742d5",
   "metadata": {},
   "source": [
    "#### 3. Manejo de cadenas"
   ]
  },
  {
   "cell_type": "code",
   "execution_count": 8,
   "id": "24589721",
   "metadata": {},
   "outputs": [],
   "source": [
    "cadena = \"Universidad Nacional Tecnologica de Lima Sur\""
   ]
  },
  {
   "cell_type": "code",
   "execution_count": 9,
   "id": "93641ae2",
   "metadata": {},
   "outputs": [
    {
     "data": {
      "text/plain": [
       "'U'"
      ]
     },
     "execution_count": 9,
     "metadata": {},
     "output_type": "execute_result"
    }
   ],
   "source": [
    "cadena[0]"
   ]
  },
  {
   "cell_type": "code",
   "execution_count": 10,
   "id": "082ce254",
   "metadata": {},
   "outputs": [
    {
     "data": {
      "text/plain": [
       "'versi'"
      ]
     },
     "execution_count": 10,
     "metadata": {},
     "output_type": "execute_result"
    }
   ],
   "source": [
    "# Devuelve las posiciones 3 hasta el 7\n",
    "cadena[3:8]"
   ]
  },
  {
   "cell_type": "code",
   "execution_count": 11,
   "id": "71b42166",
   "metadata": {},
   "outputs": [
    {
     "data": {
      "text/plain": [
       "44"
      ]
     },
     "execution_count": 11,
     "metadata": {},
     "output_type": "execute_result"
    }
   ],
   "source": [
    "len(cadena)"
   ]
  },
  {
   "cell_type": "code",
   "execution_count": 12,
   "id": "03882880",
   "metadata": {},
   "outputs": [
    {
     "data": {
      "text/plain": [
       "'UNIVERSIDAD NACIONAL TECNOLOGICA DE LIMA SUR'"
      ]
     },
     "execution_count": 12,
     "metadata": {},
     "output_type": "execute_result"
    }
   ],
   "source": [
    "cadena.upper()"
   ]
  },
  {
   "cell_type": "code",
   "execution_count": 13,
   "id": "8aa590e5",
   "metadata": {},
   "outputs": [
    {
     "data": {
      "text/plain": [
       "'universidad nacional tecnologica de lima sur'"
      ]
     },
     "execution_count": 13,
     "metadata": {},
     "output_type": "execute_result"
    }
   ],
   "source": [
    "cadena.lower()"
   ]
  },
  {
   "cell_type": "code",
   "execution_count": 14,
   "id": "56a1b071",
   "metadata": {},
   "outputs": [],
   "source": [
    "arr = [1, 2 , 3]\n",
    "arr.reverse()"
   ]
  },
  {
   "cell_type": "code",
   "execution_count": 15,
   "id": "e7d2d277",
   "metadata": {},
   "outputs": [
    {
     "data": {
      "text/plain": [
       "[3, 2, 1]"
      ]
     },
     "execution_count": 15,
     "metadata": {},
     "output_type": "execute_result"
    }
   ],
   "source": [
    "arr"
   ]
  },
  {
   "cell_type": "code",
   "execution_count": 16,
   "id": "cf7e2c83",
   "metadata": {},
   "outputs": [
    {
     "data": {
      "text/plain": [
       "['Universidad', 'Nacional', 'Tecnologica', 'de', 'Lima', 'Sur']"
      ]
     },
     "execution_count": 16,
     "metadata": {},
     "output_type": "execute_result"
    }
   ],
   "source": [
    "cadena.split()"
   ]
  },
  {
   "cell_type": "code",
   "execution_count": 17,
   "id": "c5c52857",
   "metadata": {},
   "outputs": [
    {
     "data": {
      "text/plain": [
       "['Universidad', 'Nacional', 'Tecnologica', 'de', 'Lima', 'Sur']"
      ]
     },
     "execution_count": 17,
     "metadata": {},
     "output_type": "execute_result"
    }
   ],
   "source": [
    "cadena.split(\" \")"
   ]
  },
  {
   "cell_type": "code",
   "execution_count": 18,
   "id": "db5e910c",
   "metadata": {},
   "outputs": [
    {
     "data": {
      "text/plain": [
       "['U', 'iversidad Nacio', 'al Tec', 'ologica de Lima Sur']"
      ]
     },
     "execution_count": 18,
     "metadata": {},
     "output_type": "execute_result"
    }
   ],
   "source": [
    "cadena.split(\"n\")"
   ]
  },
  {
   "cell_type": "code",
   "execution_count": 19,
   "id": "c17700b1",
   "metadata": {},
   "outputs": [
    {
     "name": "stdout",
     "output_type": "stream",
     "text": [
      "Buenos dias Brian Inca\n"
     ]
    }
   ],
   "source": [
    "# Forma clásica\n",
    "name = \"Brian\"\n",
    "lastname = \"Inca\"\n",
    "print(\"Buenos dias \"+ name + \" \" + lastname)"
   ]
  },
  {
   "cell_type": "code",
   "execution_count": 20,
   "id": "9786fec0",
   "metadata": {},
   "outputs": [
    {
     "name": "stdout",
     "output_type": "stream",
     "text": [
      "Buenos dias Brian Inca\n"
     ]
    }
   ],
   "source": [
    "# format()\n",
    "name = \"Brian\"\n",
    "lastname = \"Inca\"\n",
    "print(\"Buenos dias {} {}\".format(name, lastname))"
   ]
  },
  {
   "cell_type": "code",
   "execution_count": 21,
   "id": "05217497",
   "metadata": {},
   "outputs": [
    {
     "name": "stdout",
     "output_type": "stream",
     "text": [
      "10/3 es = 3.3333333333333335\n"
     ]
    }
   ],
   "source": [
    "# Dar formato a números con muchos decimales\n",
    "resultado = 10 / 3\n",
    "print(\"10/3 es = {}\".format(resultado))"
   ]
  },
  {
   "cell_type": "code",
   "execution_count": 22,
   "id": "f84ba4a4",
   "metadata": {},
   "outputs": [
    {
     "name": "stdout",
     "output_type": "stream",
     "text": [
      "10/3 es = 3.333\n"
     ]
    }
   ],
   "source": [
    "# Dar formato a números con muchos decimales\n",
    "resultado = 10 / 3\n",
    "print(\"10/3 es = {r:1.3f}\".format(r=resultado))"
   ]
  },
  {
   "cell_type": "code",
   "execution_count": 23,
   "id": "651e3fbe",
   "metadata": {},
   "outputs": [
    {
     "name": "stdout",
     "output_type": "stream",
     "text": [
      "10/3 es 3.33\n"
     ]
    }
   ],
   "source": [
    "# Dar formato a números con muchos decimales\n",
    "resultado = 10 / 3\n",
    "print(f\"10/3 es {resultado:1.2f}\")"
   ]
  },
  {
   "cell_type": "markdown",
   "id": "cd35bb89",
   "metadata": {},
   "source": [
    "#### 4. Ingreso de datos por teclado"
   ]
  },
  {
   "cell_type": "code",
   "execution_count": 24,
   "id": "82301f3f",
   "metadata": {},
   "outputs": [
    {
     "name": "stdout",
     "output_type": "stream",
     "text": [
      "What's your name?\n",
      "hola\n",
      "Hi, hola\n"
     ]
    }
   ],
   "source": [
    "print(\"What's your name?\")\n",
    "name = input()\n",
    "print(f\"Hi, {name}\")"
   ]
  },
  {
   "cell_type": "code",
   "execution_count": 29,
   "id": "3f0bfee5",
   "metadata": {},
   "outputs": [
    {
     "name": "stdout",
     "output_type": "stream",
     "text": [
      "Numero 1: 1\n",
      "Numero 2: 2\n",
      "Respuesta = 3\n"
     ]
    }
   ],
   "source": [
    "num1 = input(\"Numero 1: \")\n",
    "num2 = input(\"Numero 2: \")\n",
    "rpta = int(num1) + int(num2)\n",
    "print(f\"Respuesta = {rpta}\")"
   ]
  },
  {
   "cell_type": "markdown",
   "id": "a2f0f46e",
   "metadata": {},
   "source": [
    "#### 5. Operadores"
   ]
  },
  {
   "cell_type": "code",
   "execution_count": 30,
   "id": "214869c8",
   "metadata": {},
   "outputs": [],
   "source": [
    "# Operadores logicos and or y not\n",
    "a = 1\n",
    "b = 2\n",
    "c = 3\n",
    "d = 4"
   ]
  },
  {
   "cell_type": "code",
   "execution_count": 31,
   "id": "9fa992a9",
   "metadata": {},
   "outputs": [
    {
     "data": {
      "text/plain": [
       "True"
      ]
     },
     "execution_count": 31,
     "metadata": {},
     "output_type": "execute_result"
    }
   ],
   "source": [
    "a < b"
   ]
  },
  {
   "cell_type": "code",
   "execution_count": 32,
   "id": "c8edd032",
   "metadata": {},
   "outputs": [
    {
     "data": {
      "text/plain": [
       "False"
      ]
     },
     "execution_count": 32,
     "metadata": {},
     "output_type": "execute_result"
    }
   ],
   "source": [
    "a < b and b > c "
   ]
  },
  {
   "cell_type": "code",
   "execution_count": 33,
   "id": "65c7c65d",
   "metadata": {},
   "outputs": [],
   "source": [
    "# Ejemplo\n",
    "aula = [\"Juan\", \"Daniel\", \"Ruben\"]\n",
    "alumno1 = \"Diego\"\n",
    "alumno2 = \"Juan\""
   ]
  },
  {
   "cell_type": "code",
   "execution_count": 34,
   "id": "65a2c033",
   "metadata": {},
   "outputs": [
    {
     "data": {
      "text/plain": [
       "False"
      ]
     },
     "execution_count": 34,
     "metadata": {},
     "output_type": "execute_result"
    }
   ],
   "source": [
    "\"Diego\" in aula"
   ]
  },
  {
   "cell_type": "code",
   "execution_count": 35,
   "id": "c17cc3f1",
   "metadata": {},
   "outputs": [
    {
     "data": {
      "text/plain": [
       "False"
      ]
     },
     "execution_count": 35,
     "metadata": {},
     "output_type": "execute_result"
    }
   ],
   "source": [
    "alumno1 in aula"
   ]
  },
  {
   "cell_type": "code",
   "execution_count": 36,
   "id": "be62e4cd",
   "metadata": {},
   "outputs": [
    {
     "data": {
      "text/plain": [
       "True"
      ]
     },
     "execution_count": 36,
     "metadata": {},
     "output_type": "execute_result"
    }
   ],
   "source": [
    "alumno2 in aula"
   ]
  },
  {
   "cell_type": "code",
   "execution_count": 37,
   "id": "f9080ba5",
   "metadata": {},
   "outputs": [
    {
     "data": {
      "text/plain": [
       "True"
      ]
     },
     "execution_count": 37,
     "metadata": {},
     "output_type": "execute_result"
    }
   ],
   "source": [
    "alumno1 not in aula"
   ]
  },
  {
   "cell_type": "code",
   "execution_count": 39,
   "id": "537f8652",
   "metadata": {},
   "outputs": [],
   "source": [
    "aula1 = [\"Juan\", \"Daniel\", \"Ruben\"]\n",
    "aula2 = [\"Juan\", \"Daniel\", \"Ruben\"]\n",
    "aula3 = aula1"
   ]
  },
  {
   "cell_type": "code",
   "execution_count": 41,
   "id": "b4ea36ab",
   "metadata": {},
   "outputs": [
    {
     "data": {
      "text/plain": [
       "True"
      ]
     },
     "execution_count": 41,
     "metadata": {},
     "output_type": "execute_result"
    }
   ],
   "source": [
    "aula3 is aula1"
   ]
  },
  {
   "cell_type": "code",
   "execution_count": 43,
   "id": "69006a11",
   "metadata": {},
   "outputs": [
    {
     "data": {
      "text/plain": [
       "False"
      ]
     },
     "execution_count": 43,
     "metadata": {},
     "output_type": "execute_result"
    }
   ],
   "source": [
    "aula2 is aula1"
   ]
  },
  {
   "cell_type": "code",
   "execution_count": 44,
   "id": "04d53356",
   "metadata": {},
   "outputs": [],
   "source": [
    "aula1.append(\"Diego\")"
   ]
  },
  {
   "cell_type": "code",
   "execution_count": 45,
   "id": "6b2af99f",
   "metadata": {},
   "outputs": [
    {
     "data": {
      "text/plain": [
       "['Juan', 'Daniel', 'Ruben', 'Diego']"
      ]
     },
     "execution_count": 45,
     "metadata": {},
     "output_type": "execute_result"
    }
   ],
   "source": [
    "aula1"
   ]
  },
  {
   "cell_type": "code",
   "execution_count": 46,
   "id": "67ce616a",
   "metadata": {},
   "outputs": [
    {
     "data": {
      "text/plain": [
       "['Juan', 'Daniel', 'Ruben', 'Diego']"
      ]
     },
     "execution_count": 46,
     "metadata": {},
     "output_type": "execute_result"
    }
   ],
   "source": [
    "aula3"
   ]
  },
  {
   "cell_type": "code",
   "execution_count": 47,
   "id": "986ead15",
   "metadata": {},
   "outputs": [
    {
     "data": {
      "text/plain": [
       "['Juan', 'Daniel', 'Ruben']"
      ]
     },
     "execution_count": 47,
     "metadata": {},
     "output_type": "execute_result"
    }
   ],
   "source": [
    "aula2"
   ]
  }
 ],
 "metadata": {
  "kernelspec": {
   "display_name": "Python 3 (ipykernel)",
   "language": "python",
   "name": "python3"
  },
  "language_info": {
   "codemirror_mode": {
    "name": "ipython",
    "version": 3
   },
   "file_extension": ".py",
   "mimetype": "text/x-python",
   "name": "python",
   "nbconvert_exporter": "python",
   "pygments_lexer": "ipython3",
   "version": "3.9.13"
  }
 },
 "nbformat": 4,
 "nbformat_minor": 5
}
